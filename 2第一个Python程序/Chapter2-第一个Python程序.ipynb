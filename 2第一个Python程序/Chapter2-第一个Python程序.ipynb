{
 "cells": [
  {
   "cell_type": "markdown",
   "metadata": {},
   "source": [
    "# 第一个Python程序\n",
    "\n",
    "在正式编写第一个Python程序前，我们先复习下什么是命令行模式和Python交互模式。\n",
    "\n",
    "\n",
    "## 命令行模式\n",
    "\n",
    "在Windows开始菜单选择“命令提示符”，就进入到命令行模式，它的提示符类似`C:\\>`:\n",
    "\n",
    "```shell\n",
    "┌────────────────────────────────────────────────────────┐\n",
    "│Command Prompt                                    - □ x │\n",
    "├────────────────────────────────────────────────────────┤\n",
    "│Microsoft Windows [Version 10.0.0]                      │\n",
    "│(c) 2015 Microsoft Corporation. All rights reserved.    │\n",
    "│                                                        │\n",
    "│C:\\> _                                                  │\n",
    "│                                                        │\n",
    "│                                                        │\n",
    "│                                                        │\n",
    "│                                                        │\n",
    "│                                                        │\n",
    "│                                                        │\n",
    "│                                                        │\n",
    "└────────────────────────────────────────────────────────┘\n",
    "```"
   ]
  },
  {
   "cell_type": "markdown",
   "metadata": {},
   "source": [
    "## Python交互模式\n",
    "\n",
    "在命令行模式下敲命令`python`，就看到类似如下的一堆文本输出，然后就进入到Python交互模式，它的提示符是`>>>`。\n",
    "\n",
    "```shell\n",
    "┌────────────────────────────────────────────────────────┐\n",
    "│Command Prompt - python                           - □ x │\n",
    "├────────────────────────────────────────────────────────┤\n",
    "│Microsoft Windows [Version 10.0.0]                      │\n",
    "│(c) 2015 Microsoft Corporation. All rights reserved.    │\n",
    "│                                                        │\n",
    "│C:\\> python                                             │\n",
    "│Python 3.7 ... on win32                                 │\n",
    "│Type \"help\", ... for more information.                  │\n",
    "│>>> _                                                   │\n",
    "│                                                        │\n",
    "│                                                        │\n",
    "│                                                        │\n",
    "│                                                        │\n",
    "└────────────────────────────────────────────────────────┘\n",
    "```\n",
    "\n",
    "在Python交互模式下输入`exit()`并回车，就退出了Python交互模式，并回到命令行模式：\n",
    "\n",
    "```shell\n",
    "┌────────────────────────────────────────────────────────┐\n",
    "│Command Prompt                                    - □ x │\n",
    "├────────────────────────────────────────────────────────┤\n",
    "│Microsoft Windows [Version 10.0.0]                      │\n",
    "│(c) 2015 Microsoft Corporation. All rights reserved.    │\n",
    "│                                                        │\n",
    "│C:\\> python                                             │\n",
    "│Python 3.7 ... on win32                                 │\n",
    "│Type \"help\", ... for more information.                  │\n",
    "│>>> exit()                                              │\n",
    "│                                                        │\n",
    "│C:\\> _                                                  │\n",
    "│                                                        │\n",
    "│                                                        │\n",
    "└────────────────────────────────────────────────────────┘\n",
    "```\n",
    "\n",
    "也可以直接通过开始菜单选择`Python(Command line)`菜单项，直接进入Python交互模式，但是输入`exit()`后窗口回直接关闭，不会回到命令行模式。\n",
    "\n",
    "了解了如何启动和退出Python交互模式，我们就可以直接正式开始编写Python代码了。\n",
    "\n",
    "在写代码之前，请千万不要用“复制”-“粘贴”把代码从页面粘贴到你自己的电脑上。写程序也讲究一个感觉，你需要一个字母一个字母的把代码自己敲进去，在敲代码的过程中，初学者经常会敲错代码：拼写不对，大小写不对，混用中英标点，混用空格Tab键，所以，你需要仔细检查，对照，才能以最快的速度掌握如何写程序。\n",
    "\n",
    "![python](./images/2.jfif)\n",
    "\n",
    "在交互模式的提示符`>>>`下，直接输入代码，按回车,就可以立刻得到代码执行结果。现在，试试输入`100+200`，看看计算结果是不是300："
   ]
  },
  {
   "cell_type": "code",
   "execution_count": 2,
   "metadata": {},
   "outputs": [
    {
     "data": {
      "text/plain": [
       "300"
      ]
     },
     "execution_count": 2,
     "metadata": {},
     "output_type": "execute_result"
    }
   ],
   "source": [
    "#!/usr/bin/env python\n",
    "100+200"
   ]
  },
  {
   "cell_type": "markdown",
   "metadata": {},
   "source": [
    "很简单吧，任何有效的数字计算都可以算出来。\n",
    "\n",
    "如果要让Python打印指定的文字，可以使用`print()`函数，然后把希望打印的文字用单引号或者双引号括起来，但不能混用单引号和双引号："
   ]
  },
  {
   "cell_type": "code",
   "execution_count": 4,
   "metadata": {},
   "outputs": [
    {
     "name": "stdout",
     "output_type": "stream",
     "text": [
      "hello, world\n"
     ]
    }
   ],
   "source": [
    "#!/usr/bin/env python\n",
    "print('hello, world')"
   ]
  },
  {
   "cell_type": "markdown",
   "metadata": {},
   "source": [
    "这种用单引号或者双引号括起来的文本在程序中叫字符串，今后我们还会经常遇到。\n",
    "\n",
    "最后，用`exit()`退出Python，我们的第一个Python程序完成！唯一的缺憾是没有保存下来，下次运行时还要再输入一遍代码。"
   ]
  },
  {
   "cell_type": "code",
   "execution_count": null,
   "metadata": {},
   "outputs": [],
   "source": []
  }
 ],
 "metadata": {
  "kernelspec": {
   "display_name": "Python 3",
   "language": "python",
   "name": "python3"
  },
  "language_info": {
   "name": ""
  }
 },
 "nbformat": 4,
 "nbformat_minor": 4
}

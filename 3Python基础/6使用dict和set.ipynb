{
 "cells": [
  {
   "cell_type": "markdown",
   "metadata": {},
   "source": [
    "# 使用dict和set\n",
    "\n",
    "## dict\n",
    "\n",
    "Python内置了字典：dict的支持，dict全称dictionary,在其他语言中也成为map，使用键-值(key-value)存储，具有极快的查找速度。\n",
    "\n",
    "举个例子，假设要根据同学的名字查找对应的成绩，如果使用list实现，需要两个list：\n",
    "```python\n",
    "names = ['Michael', 'Bob', 'Tracy']\n",
    "scores = [95, 75, 85]\n",
    "```\n",
    "给定一个名字，要查找对应的成绩，就先要在names中找到对应的位置，再从scores去除对应的成绩，list越长，耗时越长。\n",
    "\n",
    "如果用dict实现，只需要一个“名字”-“成绩”的对照表，直接根据名字查找成绩，无论这个表有多大，查找速度都不会变慢。用Python写一个dict如下："
   ]
  },
  {
   "cell_type": "code",
   "execution_count": 2,
   "metadata": {},
   "outputs": [
    {
     "data": {
      "text/plain": [
       "95"
      ]
     },
     "execution_count": 2,
     "metadata": {},
     "output_type": "execute_result"
    }
   ],
   "source": [
    "#!/usr/bin/env python3\n",
    "# -*- coding: utf-8 -*-\n",
    "names = {'Michael':95, 'Bob':75, 'Tracy': 85}\n",
    "names['Michael']"
   ]
  },
  {
   "cell_type": "markdown",
   "metadata": {},
   "source": [
    "为什么dict查找速度这么快？因为dict的实现原理和查字典是一样的。假设字典包含了1万个汉字，我们要查找某一个字，一个办法是把字典从第一页往后翻，知道找到我们想要的字为止，这种方法就是在list中查找元素的方法\n",
    "list也大，查找越慢。\n",
    "\n",
    "第二种方法是在字典的索引表里(比如部首表)查找这个字对应的页码，然后直接翻到该页，找到这个字。无论找那个字，这种查找速度都非常快，不会随着字典的大小增加而变慢。\n",
    "\n",
    "dict就是第二种实现方式，给定一个名字，比如`'Michael'`,dict在内部就可以直接计算出`Michael`对应的存放成绩的“页码”，也就是`95`这个数字存放的内存地址，直接取出来，所以速度非常快。\n",
    "\n",
    "你可以猜到，这种key-value的存储方式，在放进去的时候，必须根据key算出value的存放位置，这样，取得时候才能根据key直接拿到value。\n",
    "\n",
    "把数据放到dict的方法，除了初始化时指定外，还可以通过key放入：\n",
    "\n",
    "```python\n",
    ">>> names['Machel'] = 68\n",
    ">>> names['Machel']\n",
    "68\n",
    "```\n",
    "由于一个key只能对应一个value，所以，多次对一个key放入value,后面的值会把前面的值冲掉。\n",
    "\n",
    "```python\n",
    ">>> names['Jack'] = 90\n",
    ">>> names['Jack']\n",
    "90\n",
    ">>> names['Jack'] = 88\n",
    ">>> names['Jack']\n",
    "88\n",
    "```\n",
    "如果key不存在，dict就会报错。\n",
    "```\n",
    ">>> names['Thomas']\n",
    "Traceback (most recent call last):\n",
    "  File \"<stdin>\", line 1, in <module>\n",
    "KeyError: 'Thomas'\n",
    "```\n",
    "要避免key不存在的错误，有两种办法，一是通过in判断key是否存在：\n",
    "```python\n",
    ">>> 'Thomas' in d\n",
    "False\n",
    "```\n",
    "二是通过dict提供的`get()`方法，如果key不存在，可以返回`None`，或者自己指定的value：\n",
    "```python\n",
    ">>> d.get('Thomas')\n",
    ">>> d.get('Thomas', -1)\n",
    "-1\n",
    "```\n",
    ">Tips:\n",
    ">注意：返回None的时候Python的交互环境不显示结果。\n",
    "\n",
    "要删除一个key，用`pop(key)`方法，对应的value也会从dict中删除：\n",
    "```python\n",
    ">>> d.pop('Bob')\n",
    "75\n",
    ">>> d\n",
    "{'Michael': 95, 'Tracy': 85}\n",
    "```\n",
    "**请务必注意，dict内部存放的顺序和key放入的顺序是没有关系的。**\n",
    "\n",
    "和list比较，dict有以下几个特点：\n",
    "\n",
    "1. 查找和插入的速度极快，不会随着key的增加而变慢；\n",
    "2. 需要占用大量的内存，内存浪费多。\n",
    "\n",
    "而list相反：\n",
    "\n",
    "1. 查找和插入的时间随着元素的增加而增加；\n",
    "2. 占用空间小，浪费内存很少。\n",
    "\n",
    "所以，dict是用空间来换取时间的一种方法。\n",
    "\n",
    "dict可以用在需要高速查找的很多地方，在Python代码中几乎无处不在，正确的使用`dict`非常重要，需要牢记的第一条就是`dict`的key必须是不可变对象。\n",
    "\n",
    "这是因为`dict`根据key来计算value的存储位置，如果每次计算相同的key得到的结果不同，那么`dict`内部就完全混乱了。这个通过key计算位置的算法称为哈希算法(Hash)。\n",
    "\n",
    "要保证hash的正确性，作为key的对象就不能变。在Python中，字符串，整数等都是不可变的，因此，可以放心的用做key，而list是可变的，不能用做key:"
   ]
  },
  {
   "cell_type": "code",
   "execution_count": 5,
   "metadata": {},
   "outputs": [
    {
     "ename": "TypeError",
     "evalue": "unhashable type: 'list'",
     "output_type": "error",
     "traceback": [
      "\u001b[1;31m---------------------------------------------------------------------------\u001b[0m",
      "\u001b[1;31mTypeError\u001b[0m                                 Traceback (most recent call last)",
      "\u001b[1;32m<ipython-input-5-27be6655f1d2>\u001b[0m in \u001b[0;36m<module>\u001b[1;34m\u001b[0m\n\u001b[0;32m      2\u001b[0m \u001b[1;31m# -*- coding: utf-8 -*-\u001b[0m\u001b[1;33m\u001b[0m\u001b[1;33m\u001b[0m\u001b[1;33m\u001b[0m\u001b[0m\n\u001b[0;32m      3\u001b[0m \u001b[0mkey\u001b[0m \u001b[1;33m=\u001b[0m \u001b[1;33m[\u001b[0m\u001b[1;36m1\u001b[0m\u001b[1;33m,\u001b[0m \u001b[1;36m2\u001b[0m\u001b[1;33m,\u001b[0m \u001b[1;36m3\u001b[0m\u001b[1;33m]\u001b[0m\u001b[1;33m\u001b[0m\u001b[1;33m\u001b[0m\u001b[0m\n\u001b[1;32m----> 4\u001b[1;33m \u001b[0mnames\u001b[0m\u001b[1;33m[\u001b[0m\u001b[0mkey\u001b[0m\u001b[1;33m]\u001b[0m \u001b[1;33m=\u001b[0m \u001b[1;34m'a list'\u001b[0m\u001b[1;33m\u001b[0m\u001b[1;33m\u001b[0m\u001b[0m\n\u001b[0m",
      "\u001b[1;31mTypeError\u001b[0m: unhashable type: 'list'"
     ]
    }
   ],
   "source": [
    "#!/usr/bin/env python3\n",
    "# -*- coding: utf-8 -*-\n",
    "key = [1, 2, 3]\n",
    "names[key] = 'a list'"
   ]
  },
  {
   "cell_type": "markdown",
   "metadata": {},
   "source": [
    "## set\n",
    "\n",
    "set和dict 类似，也是一组key的集合，但不存储value。由于key不能重复，所以，在set中，没有重复的key。\n",
    "\n",
    "要创建一个set,需要提供一个list作为输入集合："
   ]
  },
  {
   "cell_type": "code",
   "execution_count": 6,
   "metadata": {},
   "outputs": [
    {
     "data": {
      "text/plain": [
       "{1, 2, 3}"
      ]
     },
     "execution_count": 6,
     "metadata": {},
     "output_type": "execute_result"
    }
   ],
   "source": [
    "#!/usr/bin/env python3\n",
    "# -*- coding: utf-8 -*-\n",
    "s = set([1, 2, 3])\n",
    "s"
   ]
  },
  {
   "cell_type": "markdown",
   "metadata": {},
   "source": [
    "注意，传入的参数`[1, 2, 3]`是一个list，而显示的`{1,2,3}`只是告诉你这个set内部有1,2,3这3个元素，显示的顺序也不表示set是有序的。。\n",
    "\n",
    "重复的元素在set中自动被过滤："
   ]
  },
  {
   "cell_type": "code",
   "execution_count": 7,
   "metadata": {},
   "outputs": [
    {
     "data": {
      "text/plain": [
       "{1, 2, 3}"
      ]
     },
     "execution_count": 7,
     "metadata": {},
     "output_type": "execute_result"
    }
   ],
   "source": [
    "#!/usr/bin/env python3\n",
    "# -*- coding: utf-8 -*-\n",
    "s = set([1,2,2,2,3,3])\n",
    "s"
   ]
  },
  {
   "cell_type": "markdown",
   "metadata": {},
   "source": [
    "通过`add(key)`方法可以添加元素到set中，可以重复添加，但不会有结果："
   ]
  },
  {
   "cell_type": "code",
   "execution_count": 10,
   "metadata": {},
   "outputs": [
    {
     "name": "stdout",
     "output_type": "stream",
     "text": [
      "{1, 2, 3, 4}\n",
      "{1, 2, 3, 4}\n"
     ]
    }
   ],
   "source": [
    "#!/usr/bin/env python3\n",
    "# -*- coding: utf-8 -*-\n",
    "s.add(4)\n",
    "print(s)\n",
    "s.add(4)\n",
    "print(s)"
   ]
  },
  {
   "cell_type": "markdown",
   "metadata": {},
   "source": [
    "通过`remove(key)`方法可以删除元素："
   ]
  },
  {
   "cell_type": "code",
   "execution_count": 11,
   "metadata": {},
   "outputs": [
    {
     "data": {
      "text/plain": [
       "{1, 2, 3}"
      ]
     },
     "execution_count": 11,
     "metadata": {},
     "output_type": "execute_result"
    }
   ],
   "source": [
    "#!/usr/bin/env python3\n",
    "# -*- coding: utf-8 -*-\n",
    "s.remove(4)\n",
    "s"
   ]
  },
  {
   "cell_type": "markdown",
   "metadata": {},
   "source": [
    "set可以看成数学意义上的无序和无重复元素的集合，因此，两个set可以做数学意义上的交集，并集等操作："
   ]
  },
  {
   "cell_type": "code",
   "execution_count": 14,
   "metadata": {},
   "outputs": [
    {
     "name": "stdout",
     "output_type": "stream",
     "text": [
      "{2, 3}\n",
      "{1, 2, 3, 4}\n"
     ]
    }
   ],
   "source": [
    "#!/usr/bin/env python3\n",
    "# -*- coding: utf-8 -*-\n",
    "s1 = set([1,2,3])\n",
    "s2 = set([2,3,4])\n",
    "#取交集\n",
    "print(s1 & s2)\n",
    "#取并集\n",
    "print(s1 | s2)"
   ]
  },
  {
   "cell_type": "markdown",
   "metadata": {},
   "source": [
    "set和dict的唯一区别仅在与没有存储对应的value,但是，set的原理和dict是一样的，所以，同样不可以放入可变对象，因为无法判断两个可变对象是否相等，也就无法保证set内部“不会有重复元素”。试试把list放入set，看看是否会报错。"
   ]
  },
  {
   "cell_type": "markdown",
   "metadata": {},
   "source": [
    "## 再议不可变对象\n",
    "\n",
    "上面我们讲了，str是不变对象，而list是可变对象。\n",
    "\n",
    "对于可变对象，比如list，对list进行操作，list内部的内容是会变化的，比如："
   ]
  },
  {
   "cell_type": "code",
   "execution_count": 16,
   "metadata": {},
   "outputs": [
    {
     "name": "stdout",
     "output_type": "stream",
     "text": [
      "['a', 'b', 'c']\n"
     ]
    }
   ],
   "source": [
    "#!/usr/bin/env python3\n",
    "# -*- coding: utf-8 -*-\n",
    "a = ['c','b', 'a']\n",
    "a.sort()\n",
    "print(a)"
   ]
  },
  {
   "cell_type": "markdown",
   "metadata": {},
   "source": [
    "而对于不可变对象，比如`str`，对`str`进行操作呢？"
   ]
  },
  {
   "cell_type": "code",
   "execution_count": 19,
   "metadata": {},
   "outputs": [
    {
     "data": {
      "text/plain": [
       "'abc'"
      ]
     },
     "execution_count": 19,
     "metadata": {},
     "output_type": "execute_result"
    }
   ],
   "source": [
    "#!/usr/bin/env python3\n",
    "# -*- coding: utf-8 -*-\n",
    "a = 'abc'\n",
    "a.replace('a', 'A')\n",
    "a"
   ]
  },
  {
   "cell_type": "markdown",
   "metadata": {},
   "source": [
    "虽然字符串有个`replace()`方法，也确实变出了`'Abc'`，但变量`a`最后仍是`abc`，应该怎么解释呢？\n",
    "\n",
    "我们先把代码改成下面这样："
   ]
  },
  {
   "cell_type": "code",
   "execution_count": 20,
   "metadata": {},
   "outputs": [
    {
     "name": "stdout",
     "output_type": "stream",
     "text": [
      "Abc\n",
      "abc\n"
     ]
    }
   ],
   "source": [
    "#!/usr/bin/env python3\n",
    "# -*- coding: utf-8 -*-\n",
    "a = 'abc'\n",
    "b = a.replace('a', 'A')\n",
    "print(b)\n",
    "print(a)"
   ]
  },
  {
   "cell_type": "markdown",
   "metadata": {},
   "source": [
    "要始终牢记的是，`a`是变量，而`'abc'`才是字符串对象！有些时候，我们经常说，对象`a`的内容是`'abc'`，但其实是指，`a`本身是一个变量，它指向的对象的内容才是`'abc'`:\n",
    "```\n",
    "┌───┐                  ┌───────┐\n",
    "│ a │─────────────────>│ 'abc' │\n",
    "└───┘                  └───────┘\n",
    "```\n",
    "当我们调用`a.replace('a', 'A')`时，实际上调用方法`replace`是作用在字符串对象`'abc'`上的，而这个方法虽然名字叫`replace`，但却没有改变字符串`'abc'`的内容，相反，`replace`方法创建了一个新字符串`'Abc'`并返回，如果我们用变量`b`指向该新字符串，就容易理解了，变量`a`扔指向原有的字符串`'abc'`，但变量`b`却指向新字符串`'Abc'`了：\n",
    "```\n",
    "┌───┐                  ┌───────┐\n",
    "│ a │─────────────────>│ 'abc' │\n",
    "└───┘                  └───────┘\n",
    "┌───┐                  ┌───────┐\n",
    "│ b │─────────────────>│ 'Abc' │\n",
    "└───┘                  └───────┘\n",
    "```\n",
    "所以，对于不变对象来说，调用自身的任意方法，也不会改变该对象自身的内容。相反，这些方法会创建新的对象并返回，这样，就保证了不可变对象本身永远是不可变的。"
   ]
  },
  {
   "cell_type": "markdown",
   "metadata": {},
   "source": [
    "## 小结\n",
    "\n",
    "使用key-value存储结构的dict在Python中非常有用，选择不可变对象作为key很重要，最常用的key是字符串。\n",
    "\n",
    "tuple虽然是不可变对象，但试试把`(1, 2, 3)`和`(1, [2,3])`放入dict或set中，并解释结果。"
   ]
  },
  {
   "cell_type": "code",
   "execution_count": 28,
   "metadata": {},
   "outputs": [
    {
     "name": "stdout",
     "output_type": "stream",
     "text": [
      "(1, 2, 3)\n",
      "{1, 2, 3}\n"
     ]
    }
   ],
   "source": [
    "#!/usr/bin/env python3\n",
    "# -*- coding: utf-8 -*-\n",
    "d = { (1,2,3):(1,2,3)}\n",
    "print(d[(1,2,3)])\n",
    "s = set((1,2,3))\n",
    "print(s)"
   ]
  }
 ],
 "metadata": {
  "kernelspec": {
   "display_name": "Python 3",
   "language": "python",
   "name": "python3"
  },
  "language_info": {
   "codemirror_mode": {
    "name": "ipython",
    "version": 3
   },
   "file_extension": ".py",
   "mimetype": "text/x-python",
   "name": "python",
   "nbconvert_exporter": "python",
   "pygments_lexer": "ipython3",
   "version": "3.8.3"
  }
 },
 "nbformat": 4,
 "nbformat_minor": 4
}

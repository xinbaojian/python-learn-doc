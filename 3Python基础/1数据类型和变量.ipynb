{
 "cells": [
  {
   "cell_type": "markdown",
   "metadata": {},
   "source": [
    "# Python基础\n",
    "\n",
    "## 数据类型\n",
    "\n",
    "计算机顾名思义就是可以做数学计算器的机器，因此，计算机程序理所当然可以处理各种数值。但是，计算机能处理的远不止数值，还可以处理文本、图形、音频、视频、网页等各种各样的数据，不同的数据，需要定义不同的数据类型。在Python中，能够直接处理的数据类型有以下几种：\n",
    "\n",
    "### 整数\n",
    "\n",
    "Python可以处理任意大小的整数，当然包括负整数，在程序中的表示方法和数学上的写法一模一样，例如：`1`,`100`,`-8080`,`0`,等等。\n",
    "\n",
    "计算机由于使用二进制，所以，有时候用十六进制表示整数比较方便，十六进制用`0x`前缀和0-9，a-f表示，例如：`0xff00`,`0xa5b4c3d2`，等等。\n"
   ]
  },
  {
   "cell_type": "markdown",
   "metadata": {},
   "source": [
    "### 浮点数\n",
    "\n",
    "浮点数也就是小数，之所以称之为浮点数，是因为按照科学计数法表示时，一个浮点数的小数点位置是可变的，比如，1.23x10^9和12.3x10^8是完全相等的。浮点数可以用数学写法，如`1.23`,`3.14`,`-9.01`，等等。但是对于很大或很小的浮点数，就必须用科学计数法表示，把10用e替代，1.23x10^9就是`1.23e9`,活着`12.3e8`,0.000012可以写成`1.2e-5`，等等。\n",
    "\n",
    "证书和浮点数在计算机内部存储的方式是不同的，整数运算永远是精确的（除法难道也是精确的？是的！），而浮点数运算则可能会有四舍五入的误差。"
   ]
  },
  {
   "cell_type": "markdown",
   "metadata": {},
   "source": [
    "### 字符串\n",
    "\n",
    "字符串是以单引号`'`或双引号`\"`括起来的任意文本，比如`abc`,`xyz`等等。请注意，`''`,`\"\"`本身只是一种表示方式，不是字符串的一部分，因此，字符串`abc`只有`a`,`b`,`c`这3个字符。如果`'`本身也是字符串的一部分，那就用`\"`括起来，比如`I'm Ok`包含的字符串是`I`,`'`,`m`,空格，`O`,`k`这6个字符。\n",
    "\n",
    "如果字符串内既包含`'`又包含`\"`怎么办？可以用转义符`\\`来标识，比如：\n",
    "\n",
    "```python\n",
    "'I\\'m \\\"OK\\\"!'\n",
    "```\n",
    "表示的字符串内容是：\n",
    "\n",
    "    I'm \"OK\"!\n",
    "\n",
    "转义字符`\\`可以转义很多字符，比如`\\n`表示换行，`\\t`表示制表符，字符`\\`本身也要转义，所以`\\\\`表示的字符就是`\\`,可以在Python的交互式命令行用`print()`打印字符串看看："
   ]
  },
  {
   "cell_type": "code",
   "execution_count": 6,
   "metadata": {},
   "outputs": [
    {
     "name": "stdout",
     "output_type": "stream",
     "text": [
      "I'm ok.\n",
      "I'm learning\n",
      "Python\n",
      "\\\n",
      "\\\n"
     ]
    }
   ],
   "source": [
    "#!/usr/bin/env python3\n",
    "print('I\\'m ok.')\n",
    "print('I\\'m learning\\nPython')\n",
    "print('\\\\\\n\\\\')"
   ]
  },
  {
   "cell_type": "markdown",
   "metadata": {},
   "source": [
    "如果字符串里面有很多字符需要转义，就需要加很多`\\`,为了简化，Python还允许用`r''`表示`''`内部的字符串默认不转义，可以自己试试："
   ]
  },
  {
   "cell_type": "code",
   "execution_count": 7,
   "metadata": {},
   "outputs": [
    {
     "name": "stdout",
     "output_type": "stream",
     "text": [
      "\\\t\\\n",
      "\\\\\\t\\\\\n"
     ]
    }
   ],
   "source": [
    "#!/usr/bin/env python3\n",
    "print('\\\\\\t\\\\')\n",
    "print(r'\\\\\\t\\\\')"
   ]
  },
  {
   "cell_type": "markdown",
   "metadata": {},
   "source": [
    "如果字符串内部有很多换行，用`\\n`写在一行里不好阅读，为了简化，Python允许用`'''...'''`的格式表示多行内容，可以自己试试："
   ]
  },
  {
   "cell_type": "code",
   "execution_count": 8,
   "metadata": {},
   "outputs": [
    {
     "name": "stdout",
     "output_type": "stream",
     "text": [
      "line1\n",
      "line2\n",
      "line3\n"
     ]
    }
   ],
   "source": [
    "#!/usr/bin/env python3\n",
    "print('''line1\n",
    "line2\n",
    "line3''')"
   ]
  },
  {
   "cell_type": "markdown",
   "metadata": {},
   "source": [
    "上面是在交互式命令行内输入，注意在输入多行内容时，提示符由`>>>`变为`...`，提示你可以接着上一行输入，注意`...`是提示符，不是代码的一部分：\n",
    "\n",
    "```shell\n",
    "┌────────────────────────────────────────────────────────┐\n",
    "│Command Prompt - python                           _ □ x │\n",
    "├────────────────────────────────────────────────────────┤\n",
    "│>>> print('''line1                                      │\n",
    "│... line2                                               │\n",
    "│... line3''')                                           │\n",
    "│line1                                                   │\n",
    "│line2                                                   │\n",
    "│line3                                                   │\n",
    "│                                                        │\n",
    "│>>> _                                                   │\n",
    "│                                                        │\n",
    "│                                                        │\n",
    "│                                                        │\n",
    "└────────────────────────────────────────────────────────┘\n",
    "```"
   ]
  },
  {
   "cell_type": "markdown",
   "metadata": {},
   "source": [
    "当输入玩结束符`````和括号`)`后，执行该语句并打印结果。\n",
    "\n",
    "如果写成程序并存为`.py`文件，就是：\n",
    "```python\n",
    "print('''line1\n",
    "line2\n",
    "line3''')\n",
    "```"
   ]
  },
  {
   "cell_type": "markdown",
   "metadata": {},
   "source": [
    "多行字符串`'''...'''`还可以在前面加上`r`使用，请自行测试："
   ]
  },
  {
   "cell_type": "code",
   "execution_count": 9,
   "metadata": {},
   "outputs": [
    {
     "name": "stdout",
     "output_type": "stream",
     "text": [
      "hello,\\n\n",
      "world\n",
      "\n"
     ]
    }
   ],
   "source": [
    "#!/usr/bin/env python3\n",
    "print(r'''hello,\\n\n",
    "world\n",
    "''')"
   ]
  },
  {
   "cell_type": "markdown",
   "metadata": {},
   "source": [
    "### 布尔值\n",
    "\n",
    "布尔值和布尔代数的表示完全一致，一个布尔值只有`True`,`False`两种值，要么是`True`，要么是`False`,在Python中，可以直接用`True`、`False`表示布尔值（请注意大小写），也可以通过布尔值计算出来："
   ]
  },
  {
   "cell_type": "code",
   "execution_count": 10,
   "metadata": {},
   "outputs": [
    {
     "name": "stdout",
     "output_type": "stream",
     "text": [
      "True\n",
      "False\n",
      "True\n",
      "False\n"
     ]
    }
   ],
   "source": [
    "#!/usr/bin/env python3\n",
    "print(True)\n",
    "print(False)\n",
    "print(3 > 2)\n",
    "print(3 > 5)"
   ]
  },
  {
   "cell_type": "markdown",
   "metadata": {},
   "source": [
    "布尔值可以用`and`、`or`和`not`运算。\n",
    "\n",
    "`and`运算是与运算，只有所有都为`True`,`and`运算结果才是`True`:"
   ]
  },
  {
   "cell_type": "code",
   "execution_count": 11,
   "metadata": {},
   "outputs": [
    {
     "name": "stdout",
     "output_type": "stream",
     "text": [
      "True\n",
      "False\n",
      "False\n",
      "True\n"
     ]
    }
   ],
   "source": [
    "#!/usr/bin/env python3\n",
    "print(True and True)\n",
    "print(True and False)\n",
    "print(False and False)\n",
    "print(5 > 3 and 3 > 1)"
   ]
  },
  {
   "cell_type": "markdown",
   "metadata": {},
   "source": [
    "`or` 运算是或运算，只要其中有一个为`True`,`or`运算结果就是`True`："
   ]
  },
  {
   "cell_type": "code",
   "execution_count": 12,
   "metadata": {},
   "outputs": [
    {
     "name": "stdout",
     "output_type": "stream",
     "text": [
      "True\n",
      "True\n",
      "False\n",
      "True\n"
     ]
    }
   ],
   "source": [
    "#!/usr/bin/env python3\n",
    "print(True or True)\n",
    "print(True or False)\n",
    "print(False or False)\n",
    "print(5 > 3 or 3 > 1)"
   ]
  },
  {
   "cell_type": "markdown",
   "metadata": {},
   "source": [
    "`not`运算是非运算，他是一个单目运算符，把`True`变成`False`,`False`变成`True`:"
   ]
  },
  {
   "cell_type": "code",
   "execution_count": 13,
   "metadata": {},
   "outputs": [
    {
     "name": "stdout",
     "output_type": "stream",
     "text": [
      "False\n",
      "True\n",
      "True\n"
     ]
    }
   ],
   "source": [
    "#!/usr/bin/env python3\n",
    "print(not True)\n",
    "print(not False)\n",
    "print(not 1 > 2)"
   ]
  },
  {
   "cell_type": "markdown",
   "metadata": {},
   "source": [
    "布尔值经常用在条件判断中，比如：\n",
    "```python\n",
    "if age >= 18:\n",
    "    print('adult')\n",
    "else:\n",
    "    print('teenager')\n",
    "```"
   ]
  },
  {
   "cell_type": "markdown",
   "metadata": {},
   "source": [
    "### 空值\n",
    "\n",
    "空值是Python里一个特殊的值，用`None`表示。`None`不能理解为`0`,因为`0`是有意义的，而`None`是一个特殊的值。\n",
    "\n",
    "此外，Python还提供了列表、字典等多种数据类型，还允许创建自定义数据类型，我们后面会继续讲到。"
   ]
  },
  {
   "cell_type": "markdown",
   "metadata": {},
   "source": [
    "### 变量\n",
    "\n",
    "变量的概念基本上和初中代数的方程变量是一致的，只是在计算机程序中，变量不仅可以是数字，还可以是任意数据类型。\n",
    "\n",
    "变量在程序中就是一个变量名表示了，变量名必须是大小写英文、数字、和`_`的组合，且不能用数字开头，比如：\n",
    "\n",
    "a = 1\n",
    "\n",
    "变量`a`是一个整数。\n",
    "\n",
    "t_007 = 'T007'\n",
    "\n",
    "变量`t_007`是一个字符串\n",
    "\n",
    "Answer = True\n",
    "\n",
    "变量`Answer`是一个布尔值`True`。\n",
    "\n",
    "在Python中，等号`=`是赋值语句，可以吧任意数据类型赋值给变量，同一个变量可以反复赋值，而且可以是不同类型的变量，例如："
   ]
  },
  {
   "cell_type": "code",
   "execution_count": 14,
   "metadata": {},
   "outputs": [
    {
     "name": "stdout",
     "output_type": "stream",
     "text": [
      "123\n",
      "ABC\n"
     ]
    }
   ],
   "source": [
    "#!/usr/bin/env python3\n",
    "a = 123 # a是整数\n",
    "print(a)\n",
    "a = 'ABC' # a变为字符串\n",
    "print(a)"
   ]
  },
  {
   "cell_type": "markdown",
   "metadata": {},
   "source": [
    "这种变量本身类型不固定的语言称之为`动态语言`，与之对应的是`静态语言`。静态语言在定义变量时必须制定变量类型，如果赋值的时候类型不匹配，就会报错。例如Java是静态语言，赋值语句如下(//表示注释)\n",
    "\n",
    "```java\n",
    "int a = 123; //a 是整数类型变量\n",
    "a = \"ABC\"; //错误：不能把字符串赋值给整型变量\n",
    "```\n",
    "\n",
    "和静态语言相比，动态语言更灵活，就是这个原因。\n",
    "\n",
    "请不要把赋值语句的等号等同于数学的等号。比如下面的代码：\n",
    "\n",
    "```python\n",
    "x = 10\n",
    "x = x + 2\n",
    "```\n",
    "\n",
    "如果从数学上理解`x = x + 2`那无论如何是不成立的，在程序中，赋值语句先计算右侧的表达式`x + 2`,得到结果`12`，在赋值给变量 `x`。由于`x`之前的值是`10`,重新赋值后，`x`的值变成`12`。\n",
    "\n",
    "最后，理解变量在计算机内存中的表示也非常重要。当我们写：\n",
    "\n",
    "```python\n",
    "a = 'ABC'\n",
    "```\n",
    "时，Python解释器干了两件事情：\n",
    "\n",
    "- 1.在内存中创建了一个'ABC'的字符串；\n",
    "- 2.在内存中创建了一个名为`a`的变量，并把它指向`ABC`。\n",
    "\n",
    "也可以把一个变量`a`赋值给另一个变量`b`,这个操作实际上是把变量`b`指向变量`a`所指向的数据，例如如下的代码："
   ]
  },
  {
   "cell_type": "code",
   "execution_count": 15,
   "metadata": {},
   "outputs": [
    {
     "name": "stdout",
     "output_type": "stream",
     "text": [
      "ABC\n"
     ]
    }
   ],
   "source": [
    "#!/usr/bin/env python3\n",
    "a = 'ABC'\n",
    "b = a\n",
    "a = 'XYZ'\n",
    "print(b)"
   ]
  },
  {
   "cell_type": "markdown",
   "metadata": {},
   "source": [
    "最后一行打印出变量`b`的内容到底是`ABC`还是`XYZ`？如果从数学意义上理解，就会错误的得出`b`和`a`相同，应该是`XYZ`，但实际上`b`的值是`ABC`,让我们一行一行地执行代码，就可以看到到底发生了什么事儿：\n",
    "\n",
    "执行`a = 'ABC'`,解释器创建了字符串'ABC'和变量`a`,并把`a`指向`ABC`:\n",
    "\n",
    "![1-2](./images/1-2.png)"
   ]
  },
  {
   "cell_type": "markdown",
   "metadata": {},
   "source": [
    "执行`b = a`，解释器创建了变量`b`，并把`b`指向`a`指向的字符串`ABC`:\n",
    "\n",
    "![1-3](./images/1-3.png)\n",
    "\n",
    "执行`a = 'XYZ'`，解释器创建了字符串`XYZ`,并把`a`的指向改为`XYZ`,但`b`得并没有更改：\n",
    "\n",
    "![1-3](./images/1-4.png)\n",
    "\n",
    "所以，最后打印的变量`b`的结果自然是`ABC`了。"
   ]
  },
  {
   "cell_type": "markdown",
   "metadata": {},
   "source": [
    "### 常量\n",
    "\n",
    "所谓常量就是不能变得变量，比如常用的数学常数Pi就是一个常量。在Python中，通常用**全部大写的变量名**表示常量。\n",
    "\n",
    "```python\n",
    "PI = 3.14159265359\n",
    "```\n",
    "\n",
    "但事实上`PI`仍然是一个变量，Python根本没有任何机制保证`PI`不会被改变，所以，用全部大写的变量名表示常量只是一个习惯上的用法，如果你一定要改变变量`PI`的值，也没人能拦得住你。\n",
    "\n",
    "最后解释一下整数的除法为什么是精确的。在Python中，有两种除法，一种除法是`/`:\n"
   ]
  },
  {
   "cell_type": "code",
   "execution_count": 16,
   "metadata": {},
   "outputs": [
    {
     "data": {
      "text/plain": [
       "3.3333333333333335"
      ]
     },
     "execution_count": 16,
     "metadata": {},
     "output_type": "execute_result"
    }
   ],
   "source": [
    "#!/usr/bin/env python3\n",
    "10 / 3"
   ]
  },
  {
   "cell_type": "markdown",
   "metadata": {},
   "source": [
    "`/`除法计算结果是浮点数，即使是两个整恰好整除，结果也是浮点数："
   ]
  },
  {
   "cell_type": "code",
   "execution_count": 17,
   "metadata": {},
   "outputs": [
    {
     "data": {
      "text/plain": [
       "3.0"
      ]
     },
     "execution_count": 17,
     "metadata": {},
     "output_type": "execute_result"
    }
   ],
   "source": [
    "#!/usr/bin/env python3\n",
    "9 / 3"
   ]
  },
  {
   "cell_type": "markdown",
   "metadata": {},
   "source": [
    "还有一种除法是`//`,称为地板除，两个整数的除法仍然是整数："
   ]
  },
  {
   "cell_type": "code",
   "execution_count": 18,
   "metadata": {},
   "outputs": [
    {
     "data": {
      "text/plain": [
       "3"
      ]
     },
     "execution_count": 18,
     "metadata": {},
     "output_type": "execute_result"
    }
   ],
   "source": [
    "#!/usr/bin/env python3\n",
    "10 // 3"
   ]
  },
  {
   "cell_type": "markdown",
   "metadata": {},
   "source": [
    "你没有看错，整数的地板除`//`永远是整数，即使除不尽。要做精确的除法，使用`/`就可以。\n",
    "\n",
    "因为`//`除法只取结果的整数部分，所以Python还提供了一个余数运算，可以得到两个整数相除的余数："
   ]
  },
  {
   "cell_type": "code",
   "execution_count": 19,
   "metadata": {},
   "outputs": [
    {
     "data": {
      "text/plain": [
       "1"
      ]
     },
     "execution_count": 19,
     "metadata": {},
     "output_type": "execute_result"
    }
   ],
   "source": [
    "#!/usr/bin/env python3\n",
    "10 % 3"
   ]
  },
  {
   "cell_type": "markdown",
   "metadata": {},
   "source": [
    "无论整数做`//`除法还是取余数，结果永远是整数，所以，整数运算结果永远是精确的。\n",
    "\n",
    "### 练习\n",
    "\n",
    "请打印以下变量的值："
   ]
  },
  {
   "cell_type": "code",
   "execution_count": 20,
   "metadata": {},
   "outputs": [
    {
     "name": "stdout",
     "output_type": "stream",
     "text": [
      "123\n",
      "456.789\n",
      "Hello, world\n",
      "Hello, 'Adam'\n",
      "Hello, \"Bart\"\n",
      "Hello,\n",
      "Lisa!\n"
     ]
    }
   ],
   "source": [
    "#!/usr/bin/env python3\n",
    "# -*- coding: utf-8 -*-\n",
    "n = 123\n",
    "f = 456.789\n",
    "s1 = 'Hello, world'\n",
    "s2 = 'Hello, \\'Adam\\''\n",
    "s3 = r'Hello, \"Bart\"'\n",
    "s4 = r'''Hello,\n",
    "Lisa!'''\n",
    "\n",
    "print(n)\n",
    "print(f)\n",
    "print(s1)\n",
    "print(s2)\n",
    "print(s3)\n",
    "print(s4)"
   ]
  },
  {
   "cell_type": "markdown",
   "metadata": {},
   "source": [
    "### 小结\n",
    "\n",
    "Python支持多种数据类型，在计算机内部，可以把任何数据都看成一个“对象”，而变量就是程序中用来指向这些数据对象的，对变量赋值就是把数据和变量关联起来。\n",
    "\n",
    "对变量赋值`x = y`是把变量`x` 指向真正的对象，改对象是变量`y`所指向的。随后对变量`y`的赋值不影响变量`x`的指向。\n",
    "\n",
    ">注意：\n",
    ">Python的整数没有大小限制，而某些语言的整数根据其存储长度是有大小限制的，例如Java对32位整数的范围限制在`-2147483648`-`2147483648`。\n",
    ">Python的浮点数也没有大小限制，但是超出一定范围就直接表示为`inf`(无限大)"
   ]
  },
  {
   "cell_type": "code",
   "execution_count": null,
   "metadata": {},
   "outputs": [],
   "source": []
  },
  {
   "cell_type": "code",
   "execution_count": null,
   "metadata": {},
   "outputs": [],
   "source": []
  }
 ],
 "metadata": {
  "kernelspec": {
   "display_name": "Python 3",
   "language": "python",
   "name": "python3"
  },
  "language_info": {
   "codemirror_mode": {
    "name": "ipython",
    "version": 3
   },
   "file_extension": ".py",
   "mimetype": "text/x-python",
   "name": "python",
   "nbconvert_exporter": "python",
   "pygments_lexer": "ipython3",
   "version": "3.8.3"
  }
 },
 "nbformat": 4,
 "nbformat_minor": 4
}

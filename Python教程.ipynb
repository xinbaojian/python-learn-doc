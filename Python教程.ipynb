{
 "cells": [
  {
   "cell_type": "markdown",
   "metadata": {},
   "source": [
    "# Python教程\n",
    "\n",
    "**作者：廖雪峰**\n",
    "\n",
    "这是小白的Python新生教程，具有以下特点：\n",
    "\n",
    "## 中文，免费，零起点，完整示例，基于最新的Python3版本\n",
    "\n",
    "Python是一种计算机程序设计语言。你可能已经听说过很多种流行的编程语言，比如非常难学的C语言，非常流行的Java语言，适合初学者的Basic语言，适合网页编程的JavaScript语言等等。\n",
    "\n",
    "那Python是一种什么语言呢？\n",
    "\n",
    "首先，我们先普及一下编程语言的基础知识。用任何编程语言来开发程序，都是为了让计算机干活，比如下载一个MP3，编写一个文档等等，二计算机干活的CPU只认识机器指令，所以，尽管不同的编程语言查一极大，最后都得“翻译”成CPU可以执行的机器指令。而不同的编程语言，干同一个活，编写的代码量，差距也很大。\n",
    "\n",
    "比如，完成同一个任务，C语言要写1000行代码，Java只需要写100行，而Python可能只要20行。\n",
    "\n",
    "所以Python是一种相当高级的语言。\n",
    "\n",
    "你也许会问，代码少还不好？代码少的代价是运行速度慢，C程序运行1秒钟，Java程序可能需要2秒，而Python程序可能就需要10秒。\n",
    "\n",
    "那是不是越低级的程序越难学，越高级的程序越简单？表面上来说，是的，但是，在非常高的程序抽象中，高级的Python程序设计也是非常难学的，所以，高级的程序语言不等于简单。\n",
    "\n",
    "但是，对于初学者和完成普通任务，Python语言是非常简单易用的。连Google都在大规模使用Python，你就不用担心学了回没用。\n",
    "\n",
    "用Python可以做什么？可以做日常任务，比如自动备份你的MP3；可以做网站，很多著名的网站包括YouTebe就是用Python写的；可以做网络游戏的后台，很多在线游戏的后台都是Python开发的。总之就是能干很多很多事儿啦。\n",
    "\n",
    "Python当然也有不能干的事情，比如写操作系统，这个只能C语言写；写手机应用，只能用Swift/Object-C(针对iPhone)和Java(针对Android)；写3D游戏，最好用C/C++。\n",
    "\n",
    "如果你是小白用户，满足以下条件：\n",
    "\n",
    "- 会使用电脑，但从来没写过程序；\n",
    "- 还记得初中数学学得方程式和一点点代数知识；\n",
    "- 想从编程小白编程专业的软件架构师；\n",
    "- 每天能抽出半小时学习。\n",
    "\n",
    "不要犹豫了，这个教程就是为你准备的！\n",
    "\n",
    "准备好了么？\n",
    "\n",
    "![image.png](./images/challenge-accepted.png)"
   ]
  },
  {
   "cell_type": "code",
   "execution_count": null,
   "metadata": {},
   "outputs": [],
   "source": []
  }
 ],
 "metadata": {
  "kernelspec": {
   "display_name": "Python 3",
   "language": "python",
   "name": "python3"
  },
  "language_info": {
   "codemirror_mode": {
    "name": "ipython",
    "version": 3
   },
   "file_extension": ".py",
   "mimetype": "text/x-python",
   "name": "python",
   "nbconvert_exporter": "python",
   "pygments_lexer": "ipython3",
   "version": "3.8.3"
  }
 },
 "nbformat": 4,
 "nbformat_minor": 4
}

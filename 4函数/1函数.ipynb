{
 "cells": [
  {
   "cell_type": "markdown",
   "metadata": {},
   "source": [
    "# 函数\n",
    "\n",
    "我们知道圆的面积计算公式是：\n",
    "\n",
    "S = πr^2\n",
    "\n",
    "当我们知道半径`r`的值时，就可以根据公式计算出面积。驾驶我们需要计算3个不同大小圆的面积：\n",
    "\n",
    "```\n",
    "r1 = 12.34\n",
    "r2 = 9.08\n",
    "r3 = 73.1\n",
    "s1 = 3.14 * r1 * r1\n",
    "s2 = 3.14 * r2 * r2\n",
    "s3 = 3.14 * r3 * r3\n",
    "```\n",
    "当代码出现有规律的重复的时候，你就需要当心了，每次写`3.14 * x * x`不仅很麻烦，而且，如果要把`3.14`改成`3.14159265359`的时候，得全部替换。\n",
    "\n",
    "有了函数，我们就不再每次写`s = 3.14 * x * x`，而是写成更有意义的函数调用`s = area_of_circle(x)`，而函数`area_of_circle`本身只需要写一次，就可以多次调用。\n",
    "\n",
    "基本上所有的高级语言都支持函数，Python也不例外。Python不但能非常灵活地定义函数，而且本身内置了很多有用的函数，可以直接调用。"
   ]
  },
  {
   "cell_type": "markdown",
   "metadata": {},
   "source": [
    "## 抽象\n",
    "\n",
    "抽象是数学中非常常见的概念。举个例子：\n",
    "\n",
    "计算数列的和，比如:`1+2+3+...+100`的和，写起来十分不方便，于是数学家发明了求和符号∑，也可以把`1+2+3+...+100`记作：\n",
    "```\n",
    "100\n",
    "∑n\n",
    "n=1\n",
    "```\n",
    "\n",
    "这种抽象记法非常强大，因为我们看到∑就可以理解成求和，而不是还原成低级的加法运算。\n",
    "\n",
    "而且这种抽象记法还可以扩展，比如：\n",
    "```\n",
    "100\n",
    "∑(n2+1)\n",
    "n=1\n",
    "```\n",
    "还原成加法运算就变成了：\n",
    "\n",
    "(1 x 1 + 1) + (2 x 2 + 1) + (3 x 3 + 1) + ... + (100 x 100 + 1)\n",
    "\n",
    "可见，借助抽象，我们才能不关心底层的具体计算过程，而直接在更高的层次上思考问题。\n",
    "\n",
    "写计算机程序也是一样，函数就是最基本的一种代码抽象的方式。"
   ]
  },
  {
   "cell_type": "code",
   "execution_count": null,
   "metadata": {},
   "outputs": [],
   "source": []
  }
 ],
 "metadata": {
  "kernelspec": {
   "display_name": "Python 3",
   "language": "python",
   "name": "python3"
  },
  "language_info": {
   "codemirror_mode": {
    "name": "ipython",
    "version": 3
   },
   "file_extension": ".py",
   "mimetype": "text/x-python",
   "name": "python",
   "nbconvert_exporter": "python",
   "pygments_lexer": "ipython3",
   "version": "3.8.3"
  }
 },
 "nbformat": 4,
 "nbformat_minor": 4
}

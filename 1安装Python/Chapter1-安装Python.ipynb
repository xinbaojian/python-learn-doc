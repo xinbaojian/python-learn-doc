{
 "cells": [
  {
   "cell_type": "markdown",
   "metadata": {},
   "source": [
    "# 安装Python\n",
    "\n",
    "因为Python是跨平台的，它可以运行在Windows、Mac和各种Linux/Unix系统上。在Windows上写Python程序，放到Linux上也是可以运行的。\n",
    "\n",
    "要开始学习Python编程，首先就得把Python安装到你的电脑里。安装后，你会得到Python解释器（就是负责运行Python的程序的），一个命令行交互环境，还有一个简单的集成开发环境。"
   ]
  },
  {
   "cell_type": "markdown",
   "metadata": {},
   "source": [
    "## 安装Python3.8\n",
    "\n",
    "目前Python有两个版本，一个是2.x版，一个是3.x版，这两个版本是不兼容的。由于3.x版越来越普及，我们的教程将以最新的Python3.8版本为基础。请确保你的电脑上安装的Python版本是最新的3.8x，这样，你才能无痛的学习这个教程。"
   ]
  },
  {
   "cell_type": "markdown",
   "metadata": {},
   "source": [
    "## 在Mac上安装Python\n",
    "\n",
    "如果你正在使用Mac，系统是OS X >=10.9 ,那么系统自带的Python版本是2.7。要安装最新的Python3.8有两个办法：\n",
    "\n",
    "- 方法一：从Python官网下载Python3.8的安装程序，下载后双击运行并安装。\n",
    "- 方法二：如果安装Homebrew，直接通过命令`brew install python3`安装即可。"
   ]
  },
  {
   "cell_type": "markdown",
   "metadata": {},
   "source": [
    "## 在Linux上安装Python\n",
    "\n",
    "如果你正在使用Linux，那我可以假定你有Linux系统管理经验，自行安装Python3应该没有问题，否则，请换回Windows系统。\n",
    "\n",
    "对于大量的目前仍在使用Windows的同学，如果短期内没有打算换Mac，就可以继续阅读以下内容。"
   ]
  },
  {
   "cell_type": "markdown",
   "metadata": {},
   "source": [
    "## 在Windows上安装Python"
   ]
  },
  {
   "cell_type": "markdown",
   "metadata": {},
   "source": [
    "首先，根据你的Windows版本（64位还是32位）从Python的官方网站下载Python3.8对应的64位安装程序或32位安装程序，然后，运行下载的exe安装包：\n",
    "\n",
    "![12313](./images/1.png)\n",
    "\n",
    "特别要注意勾上`Add Python 3.8 to PATH`,然后点`Install Now`即可完成安装。"
   ]
  },
  {
   "cell_type": "markdown",
   "metadata": {},
   "source": [
    "## 运行Python\n",
    "\n",
    "安装成功后，打开命令行窗口，敲入Python后，会出现两种情况：\n",
    "\n",
    "情况一：\n",
    "```shell\n",
    "┌────────────────────────────────────────────────────────┐\n",
    "│Command Prompt                                    - □ x │\n",
    "├────────────────────────────────────────────────────────┤\n",
    "│Microsoft Windows [Version 10.0.0]                      │\n",
    "│(c) 2015 Microsoft Corporation. All rights reserved.    │\n",
    "│                                                        │\n",
    "│C:\\> python                                             │\n",
    "│Python 3.8.x ...                                        │\n",
    "│[MSC v... 64 bit (AMD64)] on win32                      │\n",
    "│Type \"help\", \"copyright\", \"credits\" or \"license\" for mor│\n",
    "│information.                                            │\n",
    "│>>> _                                                   │\n",
    "│                                                        │\n",
    "│                                                        │\n",
    "└────────────────────────────────────────────────────────┘\n",
    "```\n",
    "看到上面的画面，就说明Python安装成功！\n",
    "\n",
    "你看到提示符`>>>`就表示我们已经在Python交互式环境中了，就一输入任何Python代码，回车后立即得到执行结果。现在，输入`exit()`并回车，就可以退出Python交互式环境（直接关掉命令行窗口也可以）。\n",
    "\n",
    "情况二：得到一个错误。\n",
    "\n",
    "```shell\n",
    "┌────────────────────────────────────────────────────────┐\n",
    "│Command Prompt                                    - □ x │\n",
    "├────────────────────────────────────────────────────────┤\n",
    "│Microsoft Windows [Version 10.0.0]                      │\n",
    "│(c) 2015 Microsoft Corporation. All rights reserved.    │\n",
    "│                                                        │\n",
    "│C:\\> python                                             │\n",
    "│'python' is not recognized as an internal or external co│\n",
    "│mmand, operable program or batch file.                  │\n",
    "│                                                        │\n",
    "│C:\\> _                                                  │\n",
    "│                                                        │\n",
    "│                                                        │\n",
    "│                                                        │\n",
    "└────────────────────────────────────────────────────────┘\n",
    "```\n",
    "\n",
    "这是因为Windows会根据一个`Path`的环境变量设定的路径去查找`python.exe`，如果没找到，就会报错。如果再安装时溜掉了勾选`Add Python 3.8 to PATH`，那就要手动把`python.exe`所在的路径添加到`Path`中。\n",
    "\n",
    "如果你不知道怎么修改环境变量，建议把Python安装程序重新运行一遍，务必记得勾上`Add Python 3.8 to PATH`"
   ]
  },
  {
   "cell_type": "markdown",
   "metadata": {},
   "source": [
    "## 小结\n",
    "\n",
    "学会如何把Python安装到计算机中，并且熟练打开退出Python交互式环境。\n",
    "\n",
    "在Windows上运行Python时，请先启动命令行，然后运行`python`\n",
    "\n",
    "在Mac和Linux上运行Python时，请打开终端，然后运行`python3`"
   ]
  }
 ],
 "metadata": {
  "kernelspec": {
   "display_name": "Python 3",
   "language": "python",
   "name": "python3"
  },
  "language_info": {
   "codemirror_mode": {
    "name": "ipython",
    "version": 3
   },
   "file_extension": ".py",
   "mimetype": "text/x-python",
   "name": "python",
   "nbconvert_exporter": "python",
   "pygments_lexer": "ipython3",
   "version": "3.8.3"
  }
 },
 "nbformat": 4,
 "nbformat_minor": 4
}

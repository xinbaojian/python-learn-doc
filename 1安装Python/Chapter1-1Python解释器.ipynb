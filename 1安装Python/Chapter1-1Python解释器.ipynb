{
 "cells": [
  {
   "cell_type": "markdown",
   "metadata": {},
   "source": [
    "# Python解释器\n",
    "\n",
    "当我们编写Python代码是，我们得到的是一个包含Python代码的以`.py`为扩展名的文本文件。要运行代码，就需要Python解释器去执行`.py`文件。\n",
    "\n",
    "由于整个Python语言从规范到解释器都是开源的，所以理论上，只要水平足够高，任何人都可以编写Python解释器来执行Python代码（当然难度很大）。事实上，确实存在多种Python解释器。\n"
   ]
  },
  {
   "cell_type": "markdown",
   "metadata": {},
   "source": [
    "## CPython\n",
    "\n",
    "当我们从Python官方网站下载并安装好Python3.x后，我们就直接获得了一个官方版本的解释器：CPython。这个解释器是用C语言开发的，所以叫CPython。在命令行运行`python`就是启动CPython解释器。\n",
    "\n",
    "CPython是使用最广的Python解释器。教程的所有代码也都在CPython下执行。"
   ]
  },
  {
   "cell_type": "markdown",
   "metadata": {},
   "source": [
    "## IPython\n",
    "\n",
    "IPython是基于CPython之上的一个交互式解释器，也就是说，IPython只是在交互方式上有所增强，到时执行Python代码的功能和CPython是完全一样的。好比很多国产浏览器虽然外观不同，但内核其实都是使用了IE。\n",
    "\n",
    "CPython用`>>>`作为提示符，而IPython用`In[序号]:`作为提示符。"
   ]
  },
  {
   "cell_type": "markdown",
   "metadata": {},
   "source": [
    "## PyPy\n",
    "\n",
    "PyPy是另一个Python解释器，它的目标是执行速度。PyPy采用JIT技术，对Python代码进行动态编译（注意不是解释），所以可以显著提供Python代码的执行速度。\n",
    "\n",
    "绝大部分Python代码都可以在PyPy下运行，但是PyPy和CPython有一些是不同的，这就导致相同的Python代码在两种解释器下执行可能会有不同的结果。如果你的代码要放到PyPy下执行，就需要了解PyPy和Python的不同点。"
   ]
  },
  {
   "cell_type": "markdown",
   "metadata": {},
   "source": [
    "## Jython\n",
    "\n",
    "Jython是运行在Java平台上的Python解释器，可以直接把Python代码编译成Java字节码执行。"
   ]
  },
  {
   "cell_type": "markdown",
   "metadata": {},
   "source": [
    "## IronPython\n",
    "\n",
    "IronPython和Jython类似，只不过IronPython是运行在微软.Net平台上的Python解释器，可以直接把Python代码编译成.Net字节码。"
   ]
  },
  {
   "cell_type": "markdown",
   "metadata": {},
   "source": [
    "## 小结\n",
    "\n",
    "Python的解释器很多，但使用最广泛的还是CPython。如果要和Java或.Net平台交互，最好的办法不是用Jython或IronPython，二十通过网络调用来交互，确保各程序之间的独立性。\n",
    "\n",
    "本教程的所有代码只有确保在CPython3.x版本下运行。请务必在本地安装CPython（也就是从Python官方网站下载的安装程序）。"
   ]
  }
 ],
 "metadata": {
  "kernelspec": {
   "display_name": "Python 3",
   "language": "python",
   "name": "python3"
  },
  "language_info": {
   "codemirror_mode": {
    "name": "ipython",
    "version": 3
   },
   "file_extension": ".py",
   "mimetype": "text/x-python",
   "name": "python",
   "nbconvert_exporter": "python",
   "pygments_lexer": "ipython3",
   "version": "3.8.3"
  }
 },
 "nbformat": 4,
 "nbformat_minor": 4
}

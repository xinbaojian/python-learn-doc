{
 "cells": [
  {
   "cell_type": "markdown",
   "metadata": {},
   "source": [
    "# 高级特性\n",
    "\n",
    "掌握了Python的数据类型，语句和函数，基本上就可以编写出很多有用的程序了。\n",
    "\n",
    "比如构造一个`1,3,5,7,...,999`的列表，可以通过循环实现："
   ]
  },
  {
   "cell_type": "code",
   "execution_count": 1,
   "metadata": {},
   "outputs": [],
   "source": [
    "#!/usr/bin/env python3\n",
    "# -*- coding: utf-8 -*-\n",
    "L = []\n",
    "n = 1\n",
    "while n <= 99:\n",
    "    L.append(n)\n",
    "    n = n + 2"
   ]
  },
  {
   "cell_type": "markdown",
   "metadata": {},
   "source": [
    "取list得前一半的元素，也可以通过循环实现。\n",
    "\n",
    "但是在Python中，代码不是越多越好，而是越少越好。代码不是越复杂也好，而是越简单越好。\n",
    "\n",
    "基于这一思想，我们来介绍Python中非常有用的高级特征，1行代码能实现的功能，决不写5行代码。请始终牢记，代码越少，开发效率越高。"
   ]
  }
 ],
 "metadata": {
  "kernelspec": {
   "display_name": "Python 3",
   "language": "python",
   "name": "python3"
  },
  "language_info": {
   "codemirror_mode": {
    "name": "ipython",
    "version": 3
   },
   "file_extension": ".py",
   "mimetype": "text/x-python",
   "name": "python",
   "nbconvert_exporter": "python",
   "pygments_lexer": "ipython3",
   "version": "3.8.3"
  }
 },
 "nbformat": 4,
 "nbformat_minor": 4
}
